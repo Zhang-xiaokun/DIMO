{
 "cells": [
  {
   "cell_type": "markdown",
   "metadata": {},
   "source": [
    "# Disen 2"
   ]
  },
  {
   "cell_type": "code",
   "execution_count": 2,
   "metadata": {
    "scrolled": true
   },
   "outputs": [
    {
     "name": "stdout",
     "output_type": "stream",
     "text": [
      "#session:  109761\n",
      "&item:  48378\n",
      "dataset:  Sports_and_Outdoors\n",
      "2023-08-20 18:26:00\n",
      "done\n"
     ]
    }
   ],
   "source": [
    "import os\n",
    "import pickle\n",
    "import time\n",
    "import pandas as pd\n",
    "import numpy as np\n",
    "\n",
    "meta_dataset = 'Sports_and_Outdoors'\n",
    "data_path =  './dict/' + meta_dataset +  '/interaction.csv'\n",
    "\n",
    "data_all = pd.read_csv(data_path)\n",
    "\n",
    "data_all = data_all.rename(columns={'reviewerID':'sessionID','asin':'itemID', 'unixReviewTime':'time'})\n",
    "data_all = data_all[['sessionID', 'itemID', 'time']]\n",
    "\n",
    "\n",
    "# dict = {reviewerID: sessionID}\n",
    "reviewerID2sessionID = {}\n",
    "# dict = {asinID: itemID(renumber starting form 1)}\n",
    "asin2itemID = {}\n",
    "\n",
    "category2categoryID = {}\n",
    "\n",
    "sessionNum = 0\n",
    "itemNum = 0\n",
    "\n",
    "# renumber the item & session \n",
    "for _, row in data_all.iterrows():\n",
    "    if row['sessionID'] not in reviewerID2sessionID:\n",
    "        sessionNum += 1\n",
    "        reviewerID2sessionID[row['sessionID']] = sessionNum\n",
    "    if row['itemID'] not in asin2itemID:\n",
    "        itemNum += 1\n",
    "        asin2itemID[row['itemID']] = itemNum\n",
    "    \n",
    "print('#session: ', sessionNum)\n",
    "print('&item: ', itemNum)\n",
    "\n",
    "def reSession(reviewerID):\n",
    "    if reviewerID in reviewerID2sessionID:\n",
    "        return reviewerID2sessionID[reviewerID]\n",
    "    else:\n",
    "        print('session is not recorded')\n",
    "        return 'none'\n",
    "    \n",
    "def reItem(asin):\n",
    "    if asin in asin2itemID:\n",
    "        return asin2itemID[asin]\n",
    "    else:\n",
    "        print('item is not recorded')\n",
    "        return 'none'\n",
    "    \n",
    "    \n",
    "\n",
    "\n",
    "data_all['sessionID']=data_all.sessionID.map(reSession)\n",
    "data_all['itemID']=data_all.itemID.map(reItem)\n",
    "\n",
    "\n",
    "data_all = data_all[data_all['itemID'] != 'none']\n",
    "\n",
    "\n",
    "item_inter_num = pd.DataFrame(data_all.groupby(data_all['itemID']).count())\n",
    "item_inter_num = item_inter_num.reset_index()[['sessionID', 'itemID']]\n",
    "item_num=item_inter_num.rename(columns={'sessionID':'item_num'})\n",
    "data_all = pd.merge(data_all, item_num, how='left', on = 'itemID')\n",
    "\n",
    "# 删除出现次数少于5次的item\n",
    "data_all = data_all[data_all['item_num']>4]\n",
    "data_all = data_all[['sessionID', 'itemID', 'time']]\n",
    "\n",
    "save_sess_path = './dict/' + meta_dataset +'/session_data.csv'\n",
    "save_asin2itemID_path = './dict/' + meta_dataset +'/asin2itemID.csv'\n",
    "asin_list = list(asin2itemID.keys())\n",
    "itemID_list = list(asin2itemID.values())\n",
    "asin2itemID_dict = {'asin':asin_list, 'itemID':itemID_list}\n",
    "data_asin_itemID = pd.DataFrame(asin2itemID_dict)\n",
    "\n",
    "\n",
    "\n",
    "data_all.to_csv(save_sess_path)\n",
    "data_asin_itemID.to_csv(save_asin2itemID_path)\n",
    "print(\"dataset: \", meta_dataset)\n",
    "print(time.strftime(\"%Y-%m-%d %H:%M:%S\", time.localtime()))\n",
    "print(\"done\")"
   ]
  },
  {
   "cell_type": "code",
   "execution_count": null,
   "metadata": {},
   "outputs": [],
   "source": []
  },
  {
   "cell_type": "code",
   "execution_count": null,
   "metadata": {},
   "outputs": [],
   "source": []
  }
 ],
 "metadata": {
  "kernelspec": {
   "display_name": "Python 3",
   "language": "python",
   "name": "python3"
  },
  "language_info": {
   "codemirror_mode": {
    "name": "ipython",
    "version": 3
   },
   "file_extension": ".py",
   "mimetype": "text/x-python",
   "name": "python",
   "nbconvert_exporter": "python",
   "pygments_lexer": "ipython3",
   "version": "3.7.3"
  }
 },
 "nbformat": 4,
 "nbformat_minor": 2
}
